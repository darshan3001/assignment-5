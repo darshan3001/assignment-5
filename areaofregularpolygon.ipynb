{
  "nbformat": 4,
  "nbformat_minor": 0,
  "metadata": {
    "colab": {
      "name": "areaofregularpolygon",
      "provenance": []
    },
    "kernelspec": {
      "name": "python3",
      "display_name": "Python 3"
    }
  },
  "cells": [
    {
      "cell_type": "code",
      "metadata": {
        "id": "ZPgFUhmNI5i8",
        "colab_type": "code",
        "colab": {
          "base_uri": "https://localhost:8080/",
          "height": 84
        },
        "outputId": "a63d11a9-a8b5-499b-b916-6a07dfc6bdc1"
      },
      "source": [
        "a=int(input(\"length of apothem:\"))\n",
        "l=int(input(\"length of side:\"))\n",
        "n=int(input(\"number of sides:\"))\n",
        "area=0.5*a*n*l\n",
        "print(\"area of regular polygon is:\",area)"
      ],
      "execution_count": 3,
      "outputs": [
        {
          "output_type": "stream",
          "text": [
            "length of apothem:4\n",
            "length of side:5\n",
            "number of sides:4\n",
            "area of regular polygon is: 40.0\n"
          ],
          "name": "stdout"
        }
      ]
    },
    {
      "cell_type": "code",
      "metadata": {
        "id": "fIcV0pq9J_bU",
        "colab_type": "code",
        "colab": {}
      },
      "source": [
        ""
      ],
      "execution_count": null,
      "outputs": []
    }
  ]
}